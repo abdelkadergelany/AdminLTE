{
  "nbformat": 4,
  "nbformat_minor": 0,
  "metadata": {
    "colab": {
      "provenance": [],
      "authorship_tag": "ABX9TyMUE5MOQ7IJ4dIXH6YVilna",
      "include_colab_link": true
    },
    "kernelspec": {
      "name": "python3",
      "display_name": "Python 3"
    },
    "language_info": {
      "name": "python"
    }
  },
  "cells": [
    {
      "cell_type": "markdown",
      "metadata": {
        "id": "view-in-github",
        "colab_type": "text"
      },
      "source": [
        "<a href=\"https://colab.research.google.com/github/abdelkadergelany/AdminLTE/blob/master/Advance_biodata_week4_practicce.ipynb\" target=\"_parent\"><img src=\"https://colab.research.google.com/assets/colab-badge.svg\" alt=\"Open In Colab\"/></a>"
      ]
    },
    {
      "cell_type": "code",
      "execution_count": null,
      "metadata": {
        "id": "rie2wwB_y8cr"
      },
      "outputs": [],
      "source": []
    },
    {
      "cell_type": "markdown",
      "source": [
        "# If and Loops 1"
      ],
      "metadata": {
        "id": "GZGgblddz0ZO"
      }
    },
    {
      "cell_type": "code",
      "source": [
        "dna = input('Enter DNA Sequence:')"
      ],
      "metadata": {
        "colab": {
          "base_uri": "https://localhost:8080/"
        },
        "id": "E5EuYLAqz4eZ",
        "outputId": "96dc8124-dc06-4217-cffe-27ca9b49d978"
      },
      "execution_count": 2,
      "outputs": [
        {
          "name": "stdout",
          "output_type": "stream",
          "text": [
            "Enter DNA Sequence:nnnnnnananananannag\n"
          ]
        }
      ]
    },
    {
      "cell_type": "code",
      "source": [
        "if 'n' in dna:\n",
        "  nbases = dna.count('n')\n",
        "  print(\"DNA sequence has %d undefined bases\" % nbases)\n",
        "else:\n",
        "  print(\"DNA sequence has no undefined bases\")"
      ],
      "metadata": {
        "colab": {
          "base_uri": "https://localhost:8080/"
        },
        "id": "zs88Tn4W0QiE",
        "outputId": "404eaa7a-3dc8-439d-a737-60637db9eaa7"
      },
      "execution_count": 5,
      "outputs": [
        {
          "output_type": "stream",
          "name": "stdout",
          "text": [
            "DNA sequence has 12 undefined bases\n"
          ]
        }
      ]
    },
    {
      "cell_type": "markdown",
      "source": [
        "## Delete all invalide amino acid from a protein sequence"
      ],
      "metadata": {
        "id": "WL0ZdNa41v2A"
      }
    },
    {
      "cell_type": "code",
      "source": [
        "protein='SDVIHRYKUUPAKSHGWYVCJRSRFTWMVWWRFRSCRA'\n",
        "\n",
        "aminoacids='ABCDEFGHIKLMNPQRSTVWXYZ'\n",
        "\n",
        "corrected_protein = ''\n",
        "for i in range (len(protein)):\n",
        "  if protein[i] not in aminoacids:\n",
        "    continue\n",
        "  corrected_protein = corrected_protein + protein[i]\n",
        "\n",
        "print(\"Original protein sequence is : %s\" % protein)\n",
        "print(\"Corrected protein sequence is: %s\" % corrected_protein)"
      ],
      "metadata": {
        "colab": {
          "base_uri": "https://localhost:8080/"
        },
        "id": "xN7QtvCI2EOO",
        "outputId": "70511b1b-f72a-4a3f-fd80-8254b357c0ee"
      },
      "execution_count": 9,
      "outputs": [
        {
          "output_type": "stream",
          "name": "stdout",
          "text": [
            "Original protein sequence is : SDVIHRYKUUPAKSHGWYVCJRSRFTWMVWWRFRSCRA\n",
            "Corrected protein sequence is: SDVIHRYKPAKSHGWYVCRSRFTWMVWWRFRSCRA\n"
          ]
        }
      ]
    },
    {
      "cell_type": "markdown",
      "source": [
        "# Function"
      ],
      "metadata": {
        "id": "70lw7VwX7wjq"
      }
    },
    {
      "cell_type": "code",
      "source": [
        "def gc(dna):\n",
        "  \"\"\"\n",
        "  This function computes the GC percentage of a dna sequence.\n",
        "  Input: DNA sequence\n",
        "  Output: GC percentage\n",
        "  \"\"\"\n",
        "  nbases = dna.count('n')\n",
        "  gcpercent = float(dna.count('C') + dna.count('G')) *100/ (len(dna)- nbases)\n",
        "  return gcpercent"
      ],
      "metadata": {
        "id": "_lxNWx9P7zbY"
      },
      "execution_count": 10,
      "outputs": []
    },
    {
      "cell_type": "code",
      "source": [
        "gc('AAAGTNNAGTCC')"
      ],
      "metadata": {
        "colab": {
          "base_uri": "https://localhost:8080/"
        },
        "id": "HltW_dVv9fmu",
        "outputId": "cda72667-fc3a-40af-aa70-41c5b683b74c"
      },
      "execution_count": 11,
      "outputs": [
        {
          "output_type": "execute_result",
          "data": {
            "text/plain": [
              "33.333333333333336"
            ]
          },
          "metadata": {},
          "execution_count": 11
        }
      ]
    },
    {
      "cell_type": "markdown",
      "source": [
        "## Check if DNA sequence contains an in-frame stop codon."
      ],
      "metadata": {
        "id": "xjd5cb43AVdw"
      }
    },
    {
      "cell_type": "code",
      "source": [
        "#define has_stop_codon function here\n",
        "def has_stop_codon(dna, frame=0):\n",
        "  \"This function checks if the given DNA sequence has in-frame stop codon.\"\n",
        "  stop_codon_found = False\n",
        "  stop_codons = ['tga','tag','taa']\n",
        "  for i in range(frame, len(dna),3):\n",
        "    codon = dna[i:i+3].lower()\n",
        "    if codon in stop_codons:\n",
        "      stop_codon_found=True\n",
        "      break\n",
        "  return stop_codon_found, codon\n",
        "\n",
        "\n",
        "dna = input(\"Enter a DNA sequence:\")\n",
        "stop_codon_found , codon = has_stop_codon(dna)\n",
        "if(stop_codon_found):\n",
        "  print(\"The sequence has an in-frame stop codon.\", codon)\n",
        "else:\n",
        "  print(\"The sequence has no in-frame stop codon.\")"
      ],
      "metadata": {
        "colab": {
          "base_uri": "https://localhost:8080/"
        },
        "id": "4x0bkYDEAfxA",
        "outputId": "181e11f1-9408-44ad-f97f-c5498a95ba19"
      },
      "execution_count": 17,
      "outputs": [
        {
          "output_type": "stream",
          "name": "stdout",
          "text": [
            "Enter a DNA sequence:tgggcctaggtaac\n",
            "The sequence has an in-frame stop codon. tag\n"
          ]
        }
      ]
    },
    {
      "cell_type": "code",
      "source": [],
      "metadata": {
        "id": "urbK-VQ-ElSI"
      },
      "execution_count": null,
      "outputs": []
    },
    {
      "cell_type": "code",
      "source": [
        "has_stop_codon()"
      ],
      "metadata": {
        "id": "IvJbcQ6NCFPz"
      },
      "execution_count": null,
      "outputs": []
    }
  ]
}