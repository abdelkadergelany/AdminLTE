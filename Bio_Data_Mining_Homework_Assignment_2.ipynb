{
  "nbformat": 4,
  "nbformat_minor": 0,
  "metadata": {
    "colab": {
      "provenance": [],
      "include_colab_link": true
    },
    "kernelspec": {
      "name": "python3",
      "display_name": "Python 3"
    },
    "language_info": {
      "name": "python"
    }
  },
  "cells": [
    {
      "cell_type": "markdown",
      "metadata": {
        "id": "view-in-github",
        "colab_type": "text"
      },
      "source": [
        "<a href=\"https://colab.research.google.com/github/abdelkadergelany/AdminLTE/blob/master/Bio_Data_Mining_Homework_Assignment_2.ipynb\" target=\"_parent\"><img src=\"https://colab.research.google.com/assets/colab-badge.svg\" alt=\"Open In Colab\"/></a>"
      ]
    },
    {
      "cell_type": "markdown",
      "source": [
        "# Bio Data Mining Homework Assignment 2: *Python basics for bioinformatics (1)*\n",
        "\n",
        "*   Name : \n",
        "*   Student number : \n"
      ],
      "metadata": {
        "id": "yt_wysINhavX"
      }
    },
    {
      "cell_type": "markdown",
      "source": [
        "## Problem 1 (10 points)\n",
        "\n",
        "**Given**: A string $s$ of length at most 200 letters and four integers $a$, $b$, $c$ and $d$.\n",
        "\n",
        "**Return**: The slice of this string from indices $a$ through $b$ and $c$ through $d$ (with space in between), inclusively. In other words, we should include elements $s[b]$ and $s[d]$ in our slice.\n",
        "\n",
        "### Sample Dataset\n",
        "\n",
        "```\n",
        "HumptyDumptysatonawallHumptyDumptyhadagreatfallAlltheKingshorsesandalltheKingsmenCouldntputHumptyDumptyinhisplaceagain.\n",
        "22 27 97 102\n",
        "```\n",
        "\n",
        "### Sample Output\n",
        "\n",
        "```\n",
        "Humpty Dumpty\n",
        "```"
      ],
      "metadata": {
        "id": "Tew8dTs_hq9E"
      }
    },
    {
      "cell_type": "markdown",
      "source": [
        "# slice_function is our defined function that takes 5 parameters:\n",
        "* <b> s </b> which is our given sequence\n",
        "* <b> a </b> and b representing the indexes of the first slice\n",
        "* <b>c</b> and <b> d </b> representing the indexes of the second slice\n",
        "* the output is a string containing the concatenaited slices"
      ],
      "metadata": {
        "id": "E8VGJ1FCWAPn"
      }
    },
    {
      "cell_type": "code",
      "source": [
        "def slice_function(s, a, b, c, d):\n",
        "  # We start by checking if the given indexes\n",
        "  # are within the length of our sequence\n",
        "  # if not within index, we return and error\n",
        "  if  a > len(s) or b > len(s):\n",
        "    return(\"Error out of bound\")\n",
        "  if  c > len(s) or d > len(s):\n",
        "    return(\"Error out of bound\")\n",
        " # Before concatenaiting, we make sure\n",
        " # the slices are sequentially ordered\n",
        " #this is important as order matter \n",
        " #in genomic sequence (ARN,DNA,PROTEINE)\n",
        "  if a <= b and c <= d:\n",
        "    result = s[a:b+1] + \" \" + s[c:d+1]\n",
        "    return result\n",
        "  else:\n",
        "    return(\"Error in sequence's order\")\n",
        "\n",
        "  "
      ],
      "metadata": {
        "id": "6kGt-Q_HROyv"
      },
      "execution_count": 26,
      "outputs": []
    },
    {
      "cell_type": "markdown",
      "source": [
        "We initialize some testing inputs to test our function"
      ],
      "metadata": {
        "id": "1enzhAQRY7RW"
      }
    },
    {
      "cell_type": "code",
      "source": [
        "s = \"HumptyDumptysatonawallHumptyDumptyhadagreatfallAlltheKingshorsesandalltheKingsmenCouldntputHumptyDumptyinhisplaceagain.\"\n",
        "a,b,c,d = 22, 27,97,102"
      ],
      "metadata": {
        "id": "qJXEwEqfUkeS"
      },
      "execution_count": 27,
      "outputs": []
    },
    {
      "cell_type": "code",
      "source": [
        "# We call our function by passing it\n",
        "# the sequence and the indexes\n",
        "print(slice_function(s,a,b,c,d))"
      ],
      "metadata": {
        "colab": {
          "base_uri": "https://localhost:8080/",
          "height": 0
        },
        "id": "wtwMkA2gUq0O",
        "outputId": "cc128961-0b97-4474-fa4c-b5d941e5ad37"
      },
      "execution_count": 28,
      "outputs": [
        {
          "output_type": "stream",
          "name": "stdout",
          "text": [
            "Humpty Dumpty\n"
          ]
        }
      ]
    }
  ]
}