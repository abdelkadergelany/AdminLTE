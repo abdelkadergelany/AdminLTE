{
  "nbformat": 4,
  "nbformat_minor": 0,
  "metadata": {
    "colab": {
      "provenance": [],
      "authorship_tag": "ABX9TyM3nW3Z95lJ8DTKmkAN1sIO",
      "include_colab_link": true
    },
    "kernelspec": {
      "name": "python3",
      "display_name": "Python 3"
    },
    "language_info": {
      "name": "python"
    }
  },
  "cells": [
    {
      "cell_type": "markdown",
      "metadata": {
        "id": "view-in-github",
        "colab_type": "text"
      },
      "source": [
        "<a href=\"https://colab.research.google.com/github/abdelkadergelany/AdminLTE/blob/master/Image_classification_webserveice.ipynb\" target=\"_parent\"><img src=\"https://colab.research.google.com/assets/colab-badge.svg\" alt=\"Open In Colab\"/></a>"
      ]
    },
    {
      "cell_type": "code",
      "source": [
        "!pip install streamlit -q \n",
        "!pip install pyngrok"
      ],
      "metadata": {
        "colab": {
          "base_uri": "https://localhost:8080/"
        },
        "id": "XrqQE3zC5Tec",
        "outputId": "18dc21f2-afbb-4959-8ff2-74ff57a691d3"
      },
      "execution_count": 1,
      "outputs": [
        {
          "output_type": "stream",
          "name": "stdout",
          "text": [
            "\u001b[K     |████████████████████████████████| 9.2 MB 33.2 MB/s \n",
            "\u001b[K     |████████████████████████████████| 237 kB 75.0 MB/s \n",
            "\u001b[K     |████████████████████████████████| 164 kB 79.3 MB/s \n",
            "\u001b[K     |████████████████████████████████| 4.7 MB 61.5 MB/s \n",
            "\u001b[K     |████████████████████████████████| 181 kB 62.2 MB/s \n",
            "\u001b[K     |████████████████████████████████| 78 kB 8.5 MB/s \n",
            "\u001b[K     |████████████████████████████████| 63 kB 2.1 MB/s \n",
            "\u001b[K     |████████████████████████████████| 51 kB 4.2 MB/s \n",
            "\u001b[?25h  Building wheel for validators (setup.py) ... \u001b[?25l\u001b[?25hdone\n",
            "Looking in indexes: https://pypi.org/simple, https://us-python.pkg.dev/colab-wheels/public/simple/\n",
            "Collecting pyngrok\n",
            "  Downloading pyngrok-5.1.0.tar.gz (745 kB)\n",
            "\u001b[K     |████████████████████████████████| 745 kB 44.1 MB/s \n",
            "\u001b[?25hRequirement already satisfied: PyYAML in /usr/local/lib/python3.7/dist-packages (from pyngrok) (6.0)\n",
            "Building wheels for collected packages: pyngrok\n",
            "  Building wheel for pyngrok (setup.py) ... \u001b[?25l\u001b[?25hdone\n",
            "  Created wheel for pyngrok: filename=pyngrok-5.1.0-py3-none-any.whl size=19007 sha256=b3ce501896a970a97769fe983f347d6eb8ff9e3aca80dff091f544b7ca93143e\n",
            "  Stored in directory: /root/.cache/pip/wheels/bf/e6/af/ccf6598ecefecd44104069371795cb9b3afbcd16987f6ccfb3\n",
            "Successfully built pyngrok\n",
            "Installing collected packages: pyngrok\n",
            "Successfully installed pyngrok-5.1.0\n"
          ]
        }
      ]
    },
    {
      "cell_type": "code",
      "source": [
        "from pyngrok import ngrok \n",
        "ngrok.set_auth_token('Replace with your auth token') "
      ],
      "metadata": {
        "colab": {
          "base_uri": "https://localhost:8080/"
        },
        "id": "vqMHUGD36Q3X",
        "outputId": "51e2a719-eff1-4d1c-e9d3-d5ccbd4ac5b6"
      },
      "execution_count": 24,
      "outputs": [
        {
          "output_type": "stream",
          "name": "stderr",
          "text": [
            "INFO:pyngrok.process:Updating authtoken for default \"config_path\" of \"ngrok_path\": /usr/local/lib/python3.7/dist-packages/pyngrok/bin/ngrok\n",
            "2022-10-04 03:10:34.078 Updating authtoken for default \"config_path\" of \"ngrok_path\": /usr/local/lib/python3.7/dist-packages/pyngrok/bin/ngrok\n"
          ]
        }
      ]
    },
    {
      "cell_type": "code",
      "source": [],
      "metadata": {
        "colab": {
          "base_uri": "https://localhost:8080/"
        },
        "id": "8y6fPSP68Q4T",
        "outputId": "674d48a0-2373-47be-e444-66901098716e"
      },
      "execution_count": 21,
      "outputs": [
        {
          "output_type": "stream",
          "name": "stderr",
          "text": [
            "UsageError: %%writefile is a cell magic, but the cell body is empty.\n"
          ]
        }
      ]
    },
    {
      "cell_type": "code",
      "source": [
        "%%writefile app.py \n",
        "import tensorflow as tf \n",
        "import streamlit as st \n",
        "from PIL import Image, ImageOps \n",
        "import numpy as np \n",
        "from tensorflow.keras.applications.imagenet_utils import decode_predictions\n"
      ],
      "metadata": {
        "colab": {
          "base_uri": "https://localhost:8080/"
        },
        "id": "oCV4XV5p6qMb",
        "outputId": "d77c6c06-925e-44e5-d30f-c4b8d669480e"
      },
      "execution_count": 25,
      "outputs": [
        {
          "output_type": "stream",
          "name": "stdout",
          "text": [
            "Overwriting app.py\n"
          ]
        }
      ]
    },
    {
      "cell_type": "code",
      "source": [],
      "metadata": {
        "id": "JjuNERVd7wvQ"
      },
      "execution_count": 14,
      "outputs": []
    },
    {
      "cell_type": "code",
      "source": [
        " resnet50_pre = tf.keras.applications.resnet.ResNet50(weights='imagenet',input_shape=(224, 224,3))"
      ],
      "metadata": {
        "colab": {
          "base_uri": "https://localhost:8080/"
        },
        "id": "hH1PxWxg7Erg",
        "outputId": "9a28b313-8160-43cc-ca9e-7de42e4688f5"
      },
      "execution_count": 16,
      "outputs": [
        {
          "output_type": "stream",
          "name": "stdout",
          "text": [
            "Downloading data from https://storage.googleapis.com/tensorflow/keras-applications/resnet/resnet50_weights_tf_dim_ordering_tf_kernels.h5\n",
            "102973440/102967424 [==============================] - 1s 0us/step\n",
            "102981632/102967424 [==============================] - 1s 0us/step\n"
          ]
        }
      ]
    },
    {
      "cell_type": "code",
      "source": [
        "st.title('AI imgage classification')\n",
        "file = st.file_uploader('upload image', type=['ipg','png'])"
      ],
      "metadata": {
        "colab": {
          "base_uri": "https://localhost:8080/"
        },
        "id": "ej3DvuW-75EC",
        "outputId": "08c686a6-2945-4eda-ab42-006b3730cf4e"
      },
      "execution_count": 20,
      "outputs": [
        {
          "output_type": "stream",
          "name": "stderr",
          "text": [
            "WARNING:root:\n",
            "  \u001b[33m\u001b[1mWarning:\u001b[0m to view this Streamlit app on a browser, run it with the following\n",
            "  command:\n",
            "\n",
            "    streamlit run /usr/local/lib/python3.7/dist-packages/ipykernel_launcher.py [ARGUMENTS]\n",
            "2022-10-04 03:01:26.878 \n",
            "  \u001b[33m\u001b[1mWarning:\u001b[0m to view this Streamlit app on a browser, run it with the following\n",
            "  command:\n",
            "\n",
            "    streamlit run /usr/local/lib/python3.7/dist-packages/ipykernel_launcher.py [ARGUMENTS]\n"
          ]
        }
      ]
    },
    {
      "cell_type": "code",
      "source": [
        "if file is None: \n",
        "  st.text('select image') \n",
        "else: \n",
        "  image = Image.open(file) \n",
        "  st.image(image, use_column_width=True)\n",
        "  img_resized = ImageOps.fit(image, (224,224), Image.ANTIALIAS) \n",
        "  img_resized = img_resized.convert(\"RGB\") \n",
        "  img_resized = np.asarray(img_resized) \n",
        "\n",
        "  pred = resnet50_pre.predict(img_resized.reshape([1,224,224,3])) \n",
        "  decoded_pred = decode_predictions(pred) \n",
        "  results = '' \n",
        "  for i, instance in enumerate(decoded_pred[0]): \n",
        "    results += '{} : {} ({:.2f}%)'.format(i+1, instance[1], instance[2]*100)\n",
        "  st.success(results)"
      ],
      "metadata": {
        "id": "xPxj-xg_8yFe"
      },
      "execution_count": 26,
      "outputs": []
    },
    {
      "cell_type": "code",
      "source": [
        "!ls \n",
        "!nohup streamlit run app.py --server.port 80 & \n",
        "url = ngrok.connect(port='80') \n",
        "url \n"
      ],
      "metadata": {
        "colab": {
          "base_uri": "https://localhost:8080/"
        },
        "id": "-zbTm-I7-Dq-",
        "outputId": "70ecc546-b4f9-4183-b0b1-7e81dc99c3f8"
      },
      "execution_count": 29,
      "outputs": [
        {
          "output_type": "stream",
          "name": "stdout",
          "text": [
            "app.py\tsample_data\n",
            "nohup: appending output to 'nohup.out'\n"
          ]
        },
        {
          "output_type": "stream",
          "name": "stderr",
          "text": [
            "INFO:pyngrok.ngrok:Opening tunnel named: http-80-b7ca0981-9375-47f7-ac8d-f19ecc76dad8\n",
            "2022-10-04 03:11:41.248 Opening tunnel named: http-80-b7ca0981-9375-47f7-ac8d-f19ecc76dad8\n",
            "INFO:pyngrok.process.ngrok:t=2022-10-04T03:11:41+0000 lvl=info msg=\"no configuration paths supplied\"\n",
            "2022-10-04 03:11:41.287 t=2022-10-04T03:11:41+0000 lvl=info msg=\"no configuration paths supplied\"\n",
            "INFO:pyngrok.process.ngrok:t=2022-10-04T03:11:41+0000 lvl=info msg=\"using configuration at default config path\" path=/root/.ngrok2/ngrok.yml\n",
            "2022-10-04 03:11:41.299 t=2022-10-04T03:11:41+0000 lvl=info msg=\"using configuration at default config path\" path=/root/.ngrok2/ngrok.yml\n",
            "INFO:pyngrok.process.ngrok:t=2022-10-04T03:11:41+0000 lvl=info msg=\"open config file\" path=/root/.ngrok2/ngrok.yml err=nil\n",
            "2022-10-04 03:11:41.309 t=2022-10-04T03:11:41+0000 lvl=info msg=\"open config file\" path=/root/.ngrok2/ngrok.yml err=nil\n",
            "INFO:pyngrok.process.ngrok:t=2022-10-04T03:11:41+0000 lvl=info msg=\"starting web service\" obj=web addr=127.0.0.1:4040\n",
            "2022-10-04 03:11:41.316 t=2022-10-04T03:11:41+0000 lvl=info msg=\"starting web service\" obj=web addr=127.0.0.1:4040\n",
            "INFO:pyngrok.process.ngrok:t=2022-10-04T03:11:41+0000 lvl=info msg=\"tunnel session started\" obj=tunnels.session\n",
            "2022-10-04 03:11:41.412 t=2022-10-04T03:11:41+0000 lvl=info msg=\"tunnel session started\" obj=tunnels.session\n",
            "INFO:pyngrok.process.ngrok:t=2022-10-04T03:11:41+0000 lvl=info msg=\"client session established\" obj=csess id=df09f5127031\n",
            "2022-10-04 03:11:41.418 t=2022-10-04T03:11:41+0000 lvl=info msg=\"client session established\" obj=csess id=df09f5127031\n",
            "INFO:pyngrok.process.ngrok:t=2022-10-04T03:11:41+0000 lvl=info msg=start pg=/api/tunnels id=97a782d94e5329a3\n",
            "2022-10-04 03:11:41.435 t=2022-10-04T03:11:41+0000 lvl=info msg=start pg=/api/tunnels id=97a782d94e5329a3\n",
            "INFO:pyngrok.process.ngrok:t=2022-10-04T03:11:41+0000 lvl=info msg=end pg=/api/tunnels id=97a782d94e5329a3 status=200 dur=313.96µs\n",
            "2022-10-04 03:11:41.455 t=2022-10-04T03:11:41+0000 lvl=info msg=end pg=/api/tunnels id=97a782d94e5329a3 status=200 dur=313.96µs\n",
            "INFO:pyngrok.process.ngrok:t=2022-10-04T03:11:41+0000 lvl=info msg=start pg=/api/tunnels id=daeed36519e22946\n",
            "2022-10-04 03:11:41.462 t=2022-10-04T03:11:41+0000 lvl=info msg=start pg=/api/tunnels id=daeed36519e22946\n",
            "INFO:pyngrok.process.ngrok:t=2022-10-04T03:11:41+0000 lvl=info msg=end pg=/api/tunnels id=daeed36519e22946 status=200 dur=84.83µs\n",
            "2022-10-04 03:11:41.464 t=2022-10-04T03:11:41+0000 lvl=info msg=end pg=/api/tunnels id=daeed36519e22946 status=200 dur=84.83µs\n",
            "INFO:pyngrok.process.ngrok:t=2022-10-04T03:11:41+0000 lvl=info msg=start pg=/api/tunnels id=bd09762af768ee24\n",
            "2022-10-04 03:11:41.468 t=2022-10-04T03:11:41+0000 lvl=info msg=start pg=/api/tunnels id=bd09762af768ee24\n",
            "INFO:pyngrok.process.ngrok:t=2022-10-04T03:11:41+0000 lvl=info msg=\"started tunnel\" obj=tunnels name=\"http-80-b7ca0981-9375-47f7-ac8d-f19ecc76dad8 (http)\" addr=http://localhost:80 url=http://0c95-35-245-175-35.ngrok.io\n",
            "2022-10-04 03:11:41.532 t=2022-10-04T03:11:41+0000 lvl=info msg=\"started tunnel\" obj=tunnels name=\"http-80-b7ca0981-9375-47f7-ac8d-f19ecc76dad8 (http)\" addr=http://localhost:80 url=http://0c95-35-245-175-35.ngrok.io\n",
            "INFO:pyngrok.process.ngrok:t=2022-10-04T03:11:41+0000 lvl=info msg=\"started tunnel\" obj=tunnels name=http-80-b7ca0981-9375-47f7-ac8d-f19ecc76dad8 addr=http://localhost:80 url=https://0c95-35-245-175-35.ngrok.io\n",
            "2022-10-04 03:11:41.538 t=2022-10-04T03:11:41+0000 lvl=info msg=\"started tunnel\" obj=tunnels name=http-80-b7ca0981-9375-47f7-ac8d-f19ecc76dad8 addr=http://localhost:80 url=https://0c95-35-245-175-35.ngrok.io\n",
            "INFO:pyngrok.process.ngrok:t=2022-10-04T03:11:41+0000 lvl=info msg=end pg=/api/tunnels id=bd09762af768ee24 status=201 dur=81.904836ms\n"
          ]
        },
        {
          "output_type": "execute_result",
          "data": {
            "text/plain": [
              "<NgrokTunnel: \"http://0c95-35-245-175-35.ngrok.io\" -> \"http://localhost:80\">"
            ]
          },
          "metadata": {},
          "execution_count": 29
        },
        {
          "output_type": "stream",
          "name": "stderr",
          "text": [
            "2022-10-04 03:11:41.552 t=2022-10-04T03:11:41+0000 lvl=info msg=end pg=/api/tunnels id=bd09762af768ee24 status=201 dur=81.904836ms\n",
            "INFO:pyngrok.process.ngrok:t=2022-10-04T03:11:41+0000 lvl=info msg=start pg=\"/api/tunnels/http-80-b7ca0981-9375-47f7-ac8d-f19ecc76dad8 (http)\" id=285ad2a014f7a4eb\n",
            "2022-10-04 03:11:41.572 t=2022-10-04T03:11:41+0000 lvl=info msg=start pg=\"/api/tunnels/http-80-b7ca0981-9375-47f7-ac8d-f19ecc76dad8 (http)\" id=285ad2a014f7a4eb\n",
            "INFO:pyngrok.process.ngrok:t=2022-10-04T03:11:41+0000 lvl=info msg=end pg=\"/api/tunnels/http-80-b7ca0981-9375-47f7-ac8d-f19ecc76dad8 (http)\" id=285ad2a014f7a4eb status=200 dur=185.8µs\n",
            "2022-10-04 03:11:41.585 t=2022-10-04T03:11:41+0000 lvl=info msg=end pg=\"/api/tunnels/http-80-b7ca0981-9375-47f7-ac8d-f19ecc76dad8 (http)\" id=285ad2a014f7a4eb status=200 dur=185.8µs\n"
          ]
        }
      ]
    },
    {
      "cell_type": "code",
      "source": [
        "ngrok.kill() # server reset"
      ],
      "metadata": {
        "id": "44uKP1iw-jSz"
      },
      "execution_count": null,
      "outputs": []
    }
  ]
}